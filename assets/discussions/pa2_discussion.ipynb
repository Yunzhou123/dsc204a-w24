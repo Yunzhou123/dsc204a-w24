{
 "cells": [
  {
   "cell_type": "markdown",
   "id": "3f63512d",
   "metadata": {},
   "source": [
    "# PA2 Discussion\n",
    "## DSC 204a, Winter 2024\n",
    "\n",
    "Notebook Setup: This notebook is best run on the `ray-notebook` server setup on DataHub, where all the dependencies have been installed for you."
   ]
  },
  {
   "cell_type": "markdown",
   "id": "4a03ad04",
   "metadata": {},
   "source": [
    "## A Simple Introduction to Ray Actors"
   ]
  },
  {
   "cell_type": "code",
   "execution_count": null,
   "id": "38fe1ad0",
   "metadata": {},
   "outputs": [],
   "source": [
    "import ray\n",
    "import time\n",
    "import warnings\n",
    "warnings.filterwarnings(\"ignore\")\n",
    "ray.init()\n",
    "\n",
    "@ray.remote\n",
    "class Counter:\n",
    "    def __init__(self):\n",
    "        self.value = 0\n",
    "\n",
    "    def increment(self):\n",
    "        # simulate longer execution time\n",
    "        time.sleep(1)\n",
    "\n",
    "        self.value += 1\n",
    "        return self.value\n",
    "\n",
    "    def get_counter(self):\n",
    "        return self.value\n",
    "\n",
    "# Create an actor instance from this class.\n",
    "counter = Counter.remote()"
   ]
  },
  {
   "cell_type": "code",
   "execution_count": null,
   "id": "cf24b449",
   "metadata": {},
   "outputs": [],
   "source": [
    "counter.value # doesn't work directly - access actor state through methods!"
   ]
  },
  {
   "cell_type": "code",
   "execution_count": null,
   "id": "38c1f5a6",
   "metadata": {},
   "outputs": [],
   "source": [
    "start = time.time()\n",
    "for _ in range(15):\n",
    "    counter.increment.remote() # increment the counter. Note that each method is a Ray task now!\n",
    "end = time.time()\n",
    "print(\"Time :\", end - start)"
   ]
  },
  {
   "cell_type": "code",
   "execution_count": null,
   "id": "f89d7452",
   "metadata": {},
   "outputs": [],
   "source": [
    "ray.get(counter.get_counter.remote()) "
   ]
  },
  {
   "cell_type": "markdown",
   "id": "52f67a98",
   "metadata": {},
   "source": [
    "Wait, shouldn't the time be 15 s? Well, these increment method calls are now Ray tasks, and are thus executed asynchronously!\n",
    "\n",
    "All the method calls of an actor are executed in order i.e serially. Thus, the `get_counter` call will wait until all the previous `increment` calls complete execution (which is why you will see that this final `get_counter` call takes some time)."
   ]
  },
  {
   "cell_type": "markdown",
   "id": "9f69c8dc",
   "metadata": {},
   "source": [
    "## Collective Communication with Ray"
   ]
  },
  {
   "cell_type": "code",
   "execution_count": null,
   "id": "f2d6ab56",
   "metadata": {},
   "outputs": [],
   "source": [
    "import ray, torch, os\n",
    "import ray.util.collective as col\n",
    "\n",
    "os.environ[\"PYTHONWARNINGS\"]=\"ignore::DeprecationWarning\"\n",
    "@ray.remote\n",
    "class Worker:\n",
    "    def __init__(self, world_size, rank):\n",
    "        col.init_collective_group(world_size=world_size,\n",
    "                                  rank=rank,\n",
    "                                  group_name=\"dsc204a\",\n",
    "                                  backend=\"gloo\")\n",
    "    \n",
    "    def set_msg(self, msg):\n",
    "        self.msg = msg\n",
    "        return\n",
    "    \n",
    "    def set_buf(self, shape, dtype):\n",
    "        self.buf = torch.zeros(shape, dtype=dtype)\n",
    "        return\n",
    "    \n",
    "    def do_send(self, target_rank):\n",
    "        col.send(self.msg, target_rank, group_name=\"dsc204a\")\n",
    "        return self.msg\n",
    "\n",
    "    def do_recv(self, src_rank):\n",
    "        col.recv(self.buf, src_rank, group_name=\"dsc204a\")\n",
    "        return self.buf\n",
    "    \n",
    "    \n",
    "world_size = 2\n",
    "\n",
    "A = Worker.remote(world_size=world_size, rank=0)\n",
    "B = Worker.remote(world_size=world_size, rank=1)\n",
    "\n",
    "col.create_collective_group(actors=[A,B],\n",
    "                            world_size=world_size,\n",
    "                            ranks=[0,1],\n",
    "                            backend=\"gloo\",\n",
    "                            group_name=\"dsc204a\")\n",
    "\n",
    "msg = torch.tensor([1,2,3,4,5])"
   ]
  },
  {
   "cell_type": "code",
   "execution_count": null,
   "id": "21f2e54f",
   "metadata": {},
   "outputs": [],
   "source": [
    "A.set_msg.remote(ray.put(msg))\n",
    "B.set_buf.remote(msg.shape, msg.dtype)\n",
    "\n",
    "src_msg, target_buf = ray.get([A.do_send.remote(target_rank=1), B.do_recv.remote(src_rank=0)])\n",
    "print(src_msg)\n",
    "print(target_buf)"
   ]
  },
  {
   "cell_type": "code",
   "execution_count": null,
   "id": "2fe3a167",
   "metadata": {},
   "outputs": [],
   "source": [
    "ray.kill(A) # explicitly kill actors\n",
    "ray.kill(B)"
   ]
  },
  {
   "cell_type": "code",
   "execution_count": null,
   "id": "917c75aa",
   "metadata": {},
   "outputs": [],
   "source": [
    "ray.shutdown()"
   ]
  }
 ],
 "metadata": {
  "kernelspec": {
   "display_name": "Python 3 (ipykernel)",
   "language": "python",
   "name": "python3"
  },
  "language_info": {
   "codemirror_mode": {
    "name": "ipython",
    "version": 3
   },
   "file_extension": ".py",
   "mimetype": "text/x-python",
   "name": "python",
   "nbconvert_exporter": "python",
   "pygments_lexer": "ipython3",
   "version": "3.8.18"
  }
 },
 "nbformat": 4,
 "nbformat_minor": 5
}
